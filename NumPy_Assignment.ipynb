{
  "nbformat": 4,
  "nbformat_minor": 0,
  "metadata": {
    "colab": {
      "provenance": []
    },
    "kernelspec": {
      "name": "python3",
      "display_name": "Python 3"
    },
    "language_info": {
      "name": "python"
    }
  },
  "cells": [
    {
      "cell_type": "markdown",
      "source": [
        "1. What is a Python library? Why do we use Python libraries?\n",
        "Python Library: A Python library is a collection of modules and packages that contain pre-written code to perform common tasks. Examples include NumPy for numerical operations, Pandas for data analysis, and matplotlib for data visualization.\n",
        "Why Use Python Libraries?: Using libraries helps speed up development by providing reusable code, reduces the chances of errors by relying on well-tested functions, and allows you to focus on the higher-level logic of your program rather than the implementation of basic functions.\n"
      ],
      "metadata": {
        "id": "ULALFIKE5iPt"
      }
    },
    {
      "cell_type": "markdown",
      "source": [
        "What is the difference between Numpy array and List?\n",
        "NumPy Array:\n",
        "More efficient in terms of memory and performance.\n",
        "Supports element-wise operations and broadcasting.\n",
        "Homogeneous: all elements must be of the same data type.\n",
        "List:\n",
        "Can contain elements of different data types.\n",
        "Less efficient for large-scale numerical computations.\n",
        "Does not support element-wise operations or broadcasting."
      ],
      "metadata": {
        "id": "1YmyJsyj5mXH"
      }
    },
    {
      "cell_type": "code",
      "source": [
        "import numpy as np\n",
        "\n",
        "array = np.array([[1, 2, 3, 4],\n",
        "                  [5, 6, 7, 8],\n",
        "                  [9, 10, 11, 12]])\n",
        "\n",
        "shape = array.shape  # (3, 4) - 3 rows and 4 columns\n",
        "size = array.size    # 12 - Total number of elements\n",
        "dimension = array.ndim  # 2 - Number of dimensions\n",
        "\n",
        "print(f\"Shape: {shape}, Size: {size}, Dimension: {dimension}\")\n"
      ],
      "metadata": {
        "colab": {
          "base_uri": "https://localhost:8080/"
        },
        "id": "9ZonJITJ5zT4",
        "outputId": "f5287b49-eed3-4556-c370-b7e349458f81"
      },
      "execution_count": 1,
      "outputs": [
        {
          "output_type": "stream",
          "name": "stdout",
          "text": [
            "Shape: (3, 4), Size: 12, Dimension: 2\n"
          ]
        }
      ]
    },
    {
      "cell_type": "code",
      "source": [
        "import numpy as np\n",
        "\n",
        "array = np.array([[1, 2, 3, 4],\n",
        "                  [5, 6, 7, 8],\n",
        "                  [9, 10, 11, 12]])\n",
        "\n",
        "first_row = array[0]\n",
        "print(first_row)  # Output: [1 2 3 4]\n"
      ],
      "metadata": {
        "colab": {
          "base_uri": "https://localhost:8080/"
        },
        "id": "kE4bNxba57w1",
        "outputId": "de4c4e5d-6c4d-4436-b60c-5387ce4ef25c"
      },
      "execution_count": 2,
      "outputs": [
        {
          "output_type": "stream",
          "name": "stdout",
          "text": [
            "[1 2 3 4]\n"
          ]
        }
      ]
    },
    {
      "cell_type": "code",
      "source": [
        "element = array[2, 3]\n",
        "print(element)  # Output: 12\n"
      ],
      "metadata": {
        "colab": {
          "base_uri": "https://localhost:8080/"
        },
        "id": "zeuiPJQp5_f_",
        "outputId": "1ca34578-05ca-4adf-c9a7-c06d85c9405b"
      },
      "execution_count": 3,
      "outputs": [
        {
          "output_type": "stream",
          "name": "stdout",
          "text": [
            "12\n"
          ]
        }
      ]
    },
    {
      "cell_type": "code",
      "source": [
        "odd_indexed_elements = array[:, 1::2]  # Extracts elements from columns with odd indices (1, 3)\n",
        "print(odd_indexed_elements)\n"
      ],
      "metadata": {
        "colab": {
          "base_uri": "https://localhost:8080/"
        },
        "id": "h-iLlrj96Dp9",
        "outputId": "14032556-17d5-4f8c-87ce-e33469f9a4be"
      },
      "execution_count": 4,
      "outputs": [
        {
          "output_type": "stream",
          "name": "stdout",
          "text": [
            "[[ 2  4]\n",
            " [ 6  8]\n",
            " [10 12]]\n"
          ]
        }
      ]
    },
    {
      "cell_type": "code",
      "source": [
        "random_matrix = np.random.rand(3, 3)\n",
        "print(random_matrix)\n"
      ],
      "metadata": {
        "colab": {
          "base_uri": "https://localhost:8080/"
        },
        "id": "unbMh0Qf6JKR",
        "outputId": "35b03f92-c379-4350-ee46-74143443a7df"
      },
      "execution_count": 5,
      "outputs": [
        {
          "output_type": "stream",
          "name": "stdout",
          "text": [
            "[[0.12800992 0.44766588 0.23856189]\n",
            " [0.93076881 0.73580271 0.93745189]\n",
            " [0.48929678 0.88319113 0.70756458]]\n"
          ]
        }
      ]
    },
    {
      "cell_type": "markdown",
      "source": [
        "Describe the difference between np.random.rand and np.random.randn?\n",
        "np.random.rand: Generates random numbers from a uniform distribution between 0 and 1.\n",
        "np.random.randn: Generates random numbers from a standard normal distribution (mean 0, standard deviation 1)."
      ],
      "metadata": {
        "id": "veUygw0B6N0J"
      }
    },
    {
      "cell_type": "code",
      "source": [
        "expanded_array = np.expand_dims(array, axis=0)\n",
        "print(expanded_array)\n"
      ],
      "metadata": {
        "colab": {
          "base_uri": "https://localhost:8080/"
        },
        "id": "lSSWX92c6To5",
        "outputId": "39187456-6a84-4ea3-ed40-d8a41c898586"
      },
      "execution_count": 6,
      "outputs": [
        {
          "output_type": "stream",
          "name": "stdout",
          "text": [
            "[[[ 1  2  3  4]\n",
            "  [ 5  6  7  8]\n",
            "  [ 9 10 11 12]]]\n"
          ]
        }
      ]
    },
    {
      "cell_type": "code",
      "source": [
        "transposed_array = array.T\n",
        "print(transposed_array)\n"
      ],
      "metadata": {
        "colab": {
          "base_uri": "https://localhost:8080/"
        },
        "id": "8sYDhEfQ6Z5n",
        "outputId": "90c7f1f4-f2aa-4116-8ecb-8469a37e0161"
      },
      "execution_count": 7,
      "outputs": [
        {
          "output_type": "stream",
          "name": "stdout",
          "text": [
            "[[ 1  5  9]\n",
            " [ 2  6 10]\n",
            " [ 3  7 11]\n",
            " [ 4  8 12]]\n"
          ]
        }
      ]
    },
    {
      "cell_type": "code",
      "source": [
        "# Element-wise multiplication\n",
        "elementwise_multiplication = np.multiply(array, array)\n",
        "\n",
        "# Matrix multiplication\n",
        "matrix_multiplication = np.dot(array, array.T)  # Multiplying with its transpose for shape compatibility\n",
        "\n",
        "# Addition\n",
        "matrix_addition = np.add(array, array)\n",
        "\n",
        "# Subtraction\n",
        "matrix_subtraction = np.subtract(array, array)\n",
        "\n",
        "# Division\n",
        "matrix_division = np.divide(array, array)  # Dividing the array by itself\n",
        "\n",
        "print(\"Element-wise Multiplication:\\n\", elementwise_multiplication)\n",
        "print(\"Matrix Multiplication:\\n\", matrix_multiplication)\n",
        "print(\"Addition:\\n\", matrix_addition)\n",
        "print(\"Subtraction:\\n\", matrix_subtraction)\n",
        "print(\"Division:\\n\", matrix_division)\n"
      ],
      "metadata": {
        "colab": {
          "base_uri": "https://localhost:8080/"
        },
        "id": "_snZpxU86hGi",
        "outputId": "89131ba6-da32-42eb-db63-2387652b51da"
      },
      "execution_count": 8,
      "outputs": [
        {
          "output_type": "stream",
          "name": "stdout",
          "text": [
            "Element-wise Multiplication:\n",
            " [[  1   4   9  16]\n",
            " [ 25  36  49  64]\n",
            " [ 81 100 121 144]]\n",
            "Matrix Multiplication:\n",
            " [[ 30  70 110]\n",
            " [ 70 174 278]\n",
            " [110 278 446]]\n",
            "Addition:\n",
            " [[ 2  4  6  8]\n",
            " [10 12 14 16]\n",
            " [18 20 22 24]]\n",
            "Subtraction:\n",
            " [[0 0 0 0]\n",
            " [0 0 0 0]\n",
            " [0 0 0 0]]\n",
            "Division:\n",
            " [[1. 1. 1. 1.]\n",
            " [1. 1. 1. 1.]\n",
            " [1. 1. 1. 1.]]\n"
          ]
        }
      ]
    },
    {
      "cell_type": "markdown",
      "source": [
        "Which function in Numpy can be used to swap the byte order of an array?\n",
        "np.ndarray.byteswap(): This function swaps the byte order of the array elements."
      ],
      "metadata": {
        "id": "sTv_Zk0x6mga"
      }
    },
    {
      "cell_type": "markdown",
      "source": [
        "What is the significance of the np.linalg.inv function?\n",
        "np.linalg.inv: This function computes the inverse of a square matrix. It is used in linear algebra to find a matrix that, when multiplied with the original matrix, yields the identity matrix."
      ],
      "metadata": {
        "id": "LRo082BV6niV"
      }
    },
    {
      "cell_type": "markdown",
      "source": [
        "What does the np.reshape function do, and how is it used?\n",
        "np.reshape: Changes the shape of an array without changing its data. It returns a new array with the specified shape."
      ],
      "metadata": {
        "id": "5Ss-eY8p60UL"
      }
    },
    {
      "cell_type": "code",
      "source": [
        "reshaped_array = np.reshape(array, (2, 6))\n",
        "print(reshaped_array)\n"
      ],
      "metadata": {
        "colab": {
          "base_uri": "https://localhost:8080/"
        },
        "id": "oYFsehXY62VO",
        "outputId": "1ee503f8-0d48-4ee6-877a-529c647bf00c"
      },
      "execution_count": 9,
      "outputs": [
        {
          "output_type": "stream",
          "name": "stdout",
          "text": [
            "[[ 1  2  3  4  5  6]\n",
            " [ 7  8  9 10 11 12]]\n"
          ]
        }
      ]
    },
    {
      "cell_type": "markdown",
      "source": [
        "What is broadcasting in NumPy?\n",
        "Broadcasting: It allows NumPy to perform element-wise operations on arrays of different shapes. Smaller arrays are \"broadcast\" to match the shape of larger arrays to perform operations without explicitly copying data."
      ],
      "metadata": {
        "id": "O0Jqp3_Y673V"
      }
    }
  ]
}